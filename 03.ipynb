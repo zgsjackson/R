{
 "cells": [
  {
   "cell_type": "markdown",
   "metadata": {},
   "source": [
    "# Variables\n",
    "---"
   ]
  },
  {
   "cell_type": "markdown",
   "metadata": {},
   "source": [
    "A variable provides us with named storage that our programs can manipulate. A variable in R can store an atomic vector, group of atomic vectors or a combination of many Robjects. A valid variable name consists of letters, numbers and the dot or underline characters. The variable name starts with a letter or the dot not followed by a number."
   ]
  },
  {
   "cell_type": "raw",
   "metadata": {},
   "source": [
    "var_name2."
   ]
  },
  {
   "cell_type": "raw",
   "metadata": {},
   "source": [
    "valid"
   ]
  },
  {
   "cell_type": "markdown",
   "metadata": {},
   "source": [
    "Has letters, numbers, dot and underscore."
   ]
  },
  {
   "cell_type": "markdown",
   "metadata": {},
   "source": [
    "<hr>"
   ]
  },
  {
   "cell_type": "raw",
   "metadata": {},
   "source": [
    "var_name%"
   ]
  },
  {
   "cell_type": "raw",
   "metadata": {},
   "source": [
    "invalid"
   ]
  },
  {
   "cell_type": "markdown",
   "metadata": {},
   "source": [
    "Has the character '%'. Only dot(.) and underscore allowed."
   ]
  },
  {
   "cell_type": "markdown",
   "metadata": {},
   "source": [
    "<hr>"
   ]
  },
  {
   "cell_type": "raw",
   "metadata": {},
   "source": [
    "2var_name"
   ]
  },
  {
   "cell_type": "raw",
   "metadata": {},
   "source": [
    "invalid"
   ]
  },
  {
   "cell_type": "markdown",
   "metadata": {},
   "source": [
    "Starts with a number."
   ]
  },
  {
   "cell_type": "markdown",
   "metadata": {},
   "source": [
    "<hr>"
   ]
  },
  {
   "cell_type": "raw",
   "metadata": {},
   "source": [
    "# .var_name ,\n",
    "var.name"
   ]
  },
  {
   "cell_type": "raw",
   "metadata": {},
   "source": [
    "valid"
   ]
  },
  {
   "cell_type": "markdown",
   "metadata": {},
   "source": [
    "Can start with a dot(.) but the dot(.)should not be followed by a number."
   ]
  },
  {
   "cell_type": "markdown",
   "metadata": {},
   "source": [
    "<hr>"
   ]
  },
  {
   "cell_type": "raw",
   "metadata": {},
   "source": [
    ".2var_name"
   ]
  },
  {
   "cell_type": "raw",
   "metadata": {},
   "source": [
    "invalid"
   ]
  },
  {
   "cell_type": "markdown",
   "metadata": {},
   "source": [
    "The starting dot is followed by a number making it invalid."
   ]
  },
  {
   "cell_type": "markdown",
   "metadata": {},
   "source": [
    "<hr>"
   ]
  },
  {
   "cell_type": "raw",
   "metadata": {},
   "source": [
    "_var_name"
   ]
  },
  {
   "cell_type": "raw",
   "metadata": {},
   "source": [
    "invalid"
   ]
  },
  {
   "cell_type": "markdown",
   "metadata": {},
   "source": [
    "Starts with _ which is not valid"
   ]
  },
  {
   "cell_type": "markdown",
   "metadata": {},
   "source": [
    "<hr>"
   ]
  },
  {
   "cell_type": "markdown",
   "metadata": {},
   "source": [
    "Variable Assignment\n",
    "---\n",
    "\n",
    "The variables can be assigned values using leftward, rightward and equal to operator. The values of the variables can be printed using print() or cat()function. The cat() function combines multiple items into a continuous print output."
   ]
  },
  {
   "cell_type": "code",
   "execution_count": 2,
   "metadata": {
    "collapsed": false
   },
   "outputs": [
    {
     "name": "stdout",
     "output_type": "stream",
     "text": [
      "[1] 0 1 2 3\n",
      "var.1 is  0 1 2 3 \n",
      "var.2 is  learn R \n",
      "var.3 is  1 1 \n"
     ]
    }
   ],
   "source": [
    "# Assignment using equal operator.\n",
    "var.1 = c(0,1,2,3)           \n",
    "\n",
    "# Assignment using leftward operator.\n",
    "var.2 <- c(\"learn\",\"R\")   \n",
    "\n",
    "# Assignment using rightward operator.   \n",
    "c(TRUE,1) -> var.3           \n",
    "\n",
    "print(var.1)\n",
    "cat (\"var.1 is \", var.1 ,\"\\n\")\n",
    "cat (\"var.2 is \", var.2 ,\"\\n\")\n",
    "cat (\"var.3 is \", var.3 ,\"\\n\")"
   ]
  },
  {
   "cell_type": "raw",
   "metadata": {},
   "source": [
    "Note − The vector c(TRUE,1) has a mix of logical and numeric class. So logical class is coerced to numeric class making TRUE as 1."
   ]
  },
  {
   "cell_type": "markdown",
   "metadata": {},
   "source": [
    "Data Type of a Variable\n",
    "---\n",
    "\n",
    "In R, a variable itself is not declared of any data type, rather it gets the data type of the R - object assigned to it. So R is called a dynamically typed language, which means that we can change a variable’s data type of the same variable again and again when using it in a program."
   ]
  },
  {
   "cell_type": "code",
   "execution_count": 3,
   "metadata": {
    "collapsed": false
   },
   "outputs": [
    {
     "name": "stdout",
     "output_type": "stream",
     "text": [
      "The class of var_x is  character \n",
      "  Now the class of var_x is  numeric \n",
      "   Next the class of var_x becomes  integer \n"
     ]
    }
   ],
   "source": [
    "var_x <- \"Hello\"\n",
    "cat(\"The class of var_x is \",class(var_x),\"\\n\")\n",
    "\n",
    "var_x <- 34.5\n",
    "cat(\"  Now the class of var_x is \",class(var_x),\"\\n\")\n",
    "\n",
    "var_x <- 27L\n",
    "cat(\"   Next the class of var_x becomes \",class(var_x),\"\\n\")"
   ]
  },
  {
   "cell_type": "markdown",
   "metadata": {},
   "source": [
    "Finding Variables\n",
    "---\n",
    "\n",
    "To know all the variables currently available in the workspace we use the ls() function. Also the ls() function can use patterns to match the variable names."
   ]
  },
  {
   "cell_type": "code",
   "execution_count": 4,
   "metadata": {
    "collapsed": false
   },
   "outputs": [
    {
     "name": "stdout",
     "output_type": "stream",
     "text": [
      "[1] \"var.1\" \"var.2\" \"var.3\" \"var_x\"\n"
     ]
    }
   ],
   "source": [
    "print(ls())"
   ]
  },
  {
   "cell_type": "raw",
   "metadata": {},
   "source": [
    "Note − It is a sample output depending on what variables are declared in your environment."
   ]
  },
  {
   "cell_type": "markdown",
   "metadata": {},
   "source": [
    "The ls() function can use patterns to match the variable names."
   ]
  },
  {
   "cell_type": "code",
   "execution_count": 5,
   "metadata": {
    "collapsed": false
   },
   "outputs": [
    {
     "name": "stdout",
     "output_type": "stream",
     "text": [
      "[1] \"var.1\" \"var.2\" \"var.3\" \"var_x\"\n"
     ]
    }
   ],
   "source": [
    "# List the variables starting with the pattern \"var\".\n",
    "print(ls(pattern = \"var\"))  "
   ]
  },
  {
   "cell_type": "markdown",
   "metadata": {},
   "source": [
    "The variables starting with dot(.) are hidden, they can be listed using \"all.names = TRUE\" argument to ls() function."
   ]
  },
  {
   "cell_type": "code",
   "execution_count": 6,
   "metadata": {
    "collapsed": false
   },
   "outputs": [
    {
     "name": "stdout",
     "output_type": "stream",
     "text": [
      "[1] \"var.1\" \"var.2\" \"var.3\" \"var_x\"\n"
     ]
    }
   ],
   "source": [
    "print(ls(all.name = TRUE))"
   ]
  },
  {
   "cell_type": "markdown",
   "metadata": {},
   "source": [
    "Deleting Variables\n",
    "---\n",
    "\n",
    "Variables can be deleted by using the rm() function. Below we delete the variable var.3. On printing the value of the variable error is thrown."
   ]
  },
  {
   "cell_type": "raw",
   "metadata": {},
   "source": [
    "rm(var.3)\n",
    "print(var.3)"
   ]
  },
  {
   "cell_type": "code",
   "execution_count": 8,
   "metadata": {
    "collapsed": false
   },
   "outputs": [
    {
     "name": "stdout",
     "output_type": "stream",
     "text": [
      "character(0)\n"
     ]
    }
   ],
   "source": [
    "rm(list = ls())\n",
    "print(ls())"
   ]
  }
 ],
 "metadata": {
  "kernelspec": {
   "display_name": "R",
   "language": "R",
   "name": "ir"
  },
  "language_info": {
   "codemirror_mode": "r",
   "file_extension": ".r",
   "mimetype": "text/x-r-source",
   "name": "R",
   "pygments_lexer": "r",
   "version": "3.2.2"
  }
 },
 "nbformat": 4,
 "nbformat_minor": 0
}
