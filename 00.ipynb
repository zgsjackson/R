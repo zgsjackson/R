{
 "cells": [
  {
   "cell_type": "markdown",
   "metadata": {},
   "source": [
    "# Packages"
   ]
  },
  {
   "cell_type": "markdown",
   "metadata": {},
   "source": [
    "R packages are a collection of R functions, complied code and sample data. They are stored under a directory called \"library\" in the R environment. By default, R installs a set of packages during installation. More packages are added later, when they are needed for some specific purpose. When we start the R console, only the default packages are available by default. Other packages which are already installed have to be loaded explicitly to be used by the R program that is going to use them.\n",
    "\n",
    "All the packages available in R language are listed at R Packages.\n",
    "\n",
    "Below is a list of commands to be used to check, verify and use the R packages.\n"
   ]
  },
  {
   "cell_type": "markdown",
   "metadata": {},
   "source": [
    "Check Available R Packages\n",
    "---\n",
    "\n",
    "Get library locations containing R packages"
   ]
  },
  {
   "cell_type": "code",
   "execution_count": 2,
   "metadata": {
    "collapsed": false
   },
   "outputs": [
    {
     "data": {
      "text/html": [
       "'/Users/garjac/anaconda/anaconda/lib/R/library'"
      ],
      "text/latex": [
       "'/Users/garjac/anaconda/anaconda/lib/R/library'"
      ],
      "text/markdown": [
       "'/Users/garjac/anaconda/anaconda/lib/R/library'"
      ],
      "text/plain": [
       "[1] \"/Users/garjac/anaconda/anaconda/lib/R/library\""
      ]
     },
     "execution_count": 2,
     "metadata": {},
     "output_type": "execute_result"
    }
   ],
   "source": [
    ".libPaths()"
   ]
  },
  {
   "cell_type": "markdown",
   "metadata": {},
   "source": [
    "Get the list of all the packages installed\n",
    "---"
   ]
  },
  {
   "cell_type": "code",
   "execution_count": 3,
   "metadata": {
    "collapsed": true
   },
   "outputs": [],
   "source": [
    "library()"
   ]
  },
  {
   "cell_type": "markdown",
   "metadata": {},
   "source": [
    "Get all packages currently loaded in the R environment\n",
    "---\n"
   ]
  },
  {
   "cell_type": "code",
   "execution_count": 4,
   "metadata": {
    "collapsed": false
   },
   "outputs": [
    {
     "data": {
      "text/html": [
       "<ol class=list-inline>\n",
       "\t<li>'.GlobalEnv'</li>\n",
       "\t<li>'package:stats'</li>\n",
       "\t<li>'package:graphics'</li>\n",
       "\t<li>'package:grDevices'</li>\n",
       "\t<li>'package:utils'</li>\n",
       "\t<li>'package:datasets'</li>\n",
       "\t<li>'package:methods'</li>\n",
       "\t<li>'Autoloads'</li>\n",
       "\t<li>'package:base'</li>\n",
       "</ol>\n"
      ],
      "text/latex": [
       "\\begin{enumerate*}\n",
       "\\item '.GlobalEnv'\n",
       "\\item 'package:stats'\n",
       "\\item 'package:graphics'\n",
       "\\item 'package:grDevices'\n",
       "\\item 'package:utils'\n",
       "\\item 'package:datasets'\n",
       "\\item 'package:methods'\n",
       "\\item 'Autoloads'\n",
       "\\item 'package:base'\n",
       "\\end{enumerate*}\n"
      ],
      "text/markdown": [
       "1. '.GlobalEnv'\n",
       "2. 'package:stats'\n",
       "3. 'package:graphics'\n",
       "4. 'package:grDevices'\n",
       "5. 'package:utils'\n",
       "6. 'package:datasets'\n",
       "7. 'package:methods'\n",
       "8. 'Autoloads'\n",
       "9. 'package:base'\n",
       "\n",
       "\n"
      ],
      "text/plain": [
       "[1] \".GlobalEnv\"        \"package:stats\"     \"package:graphics\" \n",
       "[4] \"package:grDevices\" \"package:utils\"     \"package:datasets\" \n",
       "[7] \"package:methods\"   \"Autoloads\"         \"package:base\"     "
      ]
     },
     "execution_count": 4,
     "metadata": {},
     "output_type": "execute_result"
    }
   ],
   "source": [
    "search()"
   ]
  },
  {
   "cell_type": "markdown",
   "metadata": {},
   "source": [
    "Install a New Package\n",
    "---\n",
    "\n",
    "There are two ways to add new R packages. One is installing directly from the CRAN directory and another is downloading the package to your local system and installing it manually.\n",
    "\n",
    "<b>Install Packages Directly from Cran</b>\n",
    "\n",
    "The following command gets the packages directly from CRAN webpage and installs the package in the R environment. You may be prompted to choose a nearest mirror. Choose the one appropriate to your location."
   ]
  },
  {
   "cell_type": "raw",
   "metadata": {},
   "source": [
    " install.packages(\"Package Name\")\n",
    "\n",
    "# Install the package named \"XML\".\n",
    "\n",
    " install.packages(\"XML\")"
   ]
  },
  {
   "cell_type": "markdown",
   "metadata": {},
   "source": [
    "<b>Install Packages Manually</b>"
   ]
  },
  {
   "cell_type": "markdown",
   "metadata": {},
   "source": [
    "[View Packages](https://cran.r-project.org/web/packages/available_packages_by_name.html)\n",
    "\n",
    "[View Documentation](https://cran.r-project.org/doc/manuals/r-release/R-admin.html)"
   ]
  },
  {
   "cell_type": "markdown",
   "metadata": {},
   "source": [
    "Save the package as a .zip file in a suitable location in the local system.\n",
    "\n",
    "Now you can run the following command to install this package in the R environment."
   ]
  },
  {
   "cell_type": "raw",
   "metadata": {},
   "source": [
    "install.packages(file_name_with_path, repos = NULL, type = \"source\")\n",
    "\n",
    "# Install the package named \"XML\"\n",
    "\n",
    "install.packages(\"E:/XML_3.98-1.3.zip\", repos = NULL, type = \"source\")"
   ]
  },
  {
   "cell_type": "markdown",
   "metadata": {},
   "source": [
    "Load Package to Library\n",
    "---\n",
    "\n",
    "Before a package can be used in the code, it must be loaded to the current R environment. You also need to load a package that is already installed previously but not available in the current environment.\n",
    "\n",
    "A package is loaded using the following command −"
   ]
  },
  {
   "cell_type": "raw",
   "metadata": {},
   "source": [
    "library(\"package Name\", lib.loc = \"path to library\")\n",
    "\n",
    "# Load the package named \"XML\"\n",
    "\n",
    "install.packages(\"E:/XML_3.98-1.3.zip\", repos = NULL, type = \"source\")"
   ]
  }
 ],
 "metadata": {
  "kernelspec": {
   "display_name": "R",
   "language": "R",
   "name": "ir"
  },
  "language_info": {
   "codemirror_mode": "r",
   "file_extension": ".r",
   "mimetype": "text/x-r-source",
   "name": "R",
   "pygments_lexer": "r",
   "version": "3.2.2"
  }
 },
 "nbformat": 4,
 "nbformat_minor": 0
}
